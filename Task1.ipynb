{
  "nbformat": 4,
  "nbformat_minor": 0,
  "metadata": {
    "colab": {
      "name": "Task1.ipynb",
      "provenance": [],
      "collapsed_sections": [],
      "authorship_tag": "ABX9TyOq8Ss3naWYVT2aw18AhYP1",
      "include_colab_link": true
    },
    "kernelspec": {
      "name": "python3",
      "display_name": "Python 3"
    },
    "language_info": {
      "name": "python"
    }
  },
  "cells": [
    {
      "cell_type": "markdown",
      "metadata": {
        "id": "view-in-github",
        "colab_type": "text"
      },
      "source": [
        "<a href=\"https://colab.research.google.com/github/Patrick-EsLo/Easy2Pay/blob/master/Task1.ipynb\" target=\"_parent\"><img src=\"https://colab.research.google.com/assets/colab-badge.svg\" alt=\"Open In Colab\"/></a>"
      ]
    },
    {
      "cell_type": "markdown",
      "metadata": {
        "id": "r9g_iB-RLAUN"
      },
      "source": [
        "Atividade 1 - Grupo2 31/08/2021 IA 10E\n",
        "Patrick Lopes Tia 31613845 \n",
        "Mateus Rodrigues Tia 41634276\n",
        "Gabriel Panema Tia 41780337\n",
        "Vitor Cabral Tia 31701620\n",
        "Ricardo Daracdjian Tia 31728758"
      ]
    },
    {
      "cell_type": "markdown",
      "metadata": {
        "id": "qatOqM9tOX7t"
      },
      "source": [
        "Exer 1 e 2-)\n",
        "\n"
      ]
    },
    {
      "cell_type": "code",
      "metadata": {
        "colab": {
          "base_uri": "https://localhost:8080/"
        },
        "id": "oeZN_c4HK7JE",
        "outputId": "24ee1864-ff25-4b2a-9010-37232ee4b6fc"
      },
      "source": [
        "x = 4\n",
        "y = 2.5\n",
        "texto = \"cadeia de texto\"\n",
        "lista1 = [ x, y, texto]\n",
        "print(lista1)"
      ],
      "execution_count": null,
      "outputs": [
        {
          "output_type": "stream",
          "name": "stdout",
          "text": [
            "[4, 2.5, 'cadeia de texto']\n"
          ]
        }
      ]
    },
    {
      "cell_type": "markdown",
      "metadata": {
        "id": "HyiuSRwPOU6j"
      },
      "source": [
        "Exe 3-)"
      ]
    },
    {
      "cell_type": "code",
      "metadata": {
        "colab": {
          "base_uri": "https://localhost:8080/"
        },
        "id": "00thuAVTOaV7",
        "outputId": "52e10823-ad3f-4481-db3a-f21e44e70813"
      },
      "source": [
        "import numpy as np\n",
        "a = np.linspace(0,1000,100)\n",
        "print(a)"
      ],
      "execution_count": null,
      "outputs": [
        {
          "output_type": "stream",
          "name": "stdout",
          "text": [
            "[   0.           10.1010101    20.2020202    30.3030303    40.4040404\n",
            "   50.50505051   60.60606061   70.70707071   80.80808081   90.90909091\n",
            "  101.01010101  111.11111111  121.21212121  131.31313131  141.41414141\n",
            "  151.51515152  161.61616162  171.71717172  181.81818182  191.91919192\n",
            "  202.02020202  212.12121212  222.22222222  232.32323232  242.42424242\n",
            "  252.52525253  262.62626263  272.72727273  282.82828283  292.92929293\n",
            "  303.03030303  313.13131313  323.23232323  333.33333333  343.43434343\n",
            "  353.53535354  363.63636364  373.73737374  383.83838384  393.93939394\n",
            "  404.04040404  414.14141414  424.24242424  434.34343434  444.44444444\n",
            "  454.54545455  464.64646465  474.74747475  484.84848485  494.94949495\n",
            "  505.05050505  515.15151515  525.25252525  535.35353535  545.45454545\n",
            "  555.55555556  565.65656566  575.75757576  585.85858586  595.95959596\n",
            "  606.06060606  616.16161616  626.26262626  636.36363636  646.46464646\n",
            "  656.56565657  666.66666667  676.76767677  686.86868687  696.96969697\n",
            "  707.07070707  717.17171717  727.27272727  737.37373737  747.47474747\n",
            "  757.57575758  767.67676768  777.77777778  787.87878788  797.97979798\n",
            "  808.08080808  818.18181818  828.28282828  838.38383838  848.48484848\n",
            "  858.58585859  868.68686869  878.78787879  888.88888889  898.98989899\n",
            "  909.09090909  919.19191919  929.29292929  939.39393939  949.49494949\n",
            "  959.5959596   969.6969697   979.7979798   989.8989899  1000.        ]\n"
          ]
        }
      ]
    },
    {
      "cell_type": "markdown",
      "metadata": {
        "id": "wfNA__85PCrb"
      },
      "source": [
        "Exer 4-)"
      ]
    },
    {
      "cell_type": "code",
      "metadata": {
        "colab": {
          "base_uri": "https://localhost:8080/"
        },
        "id": "q7JmrnlYPFEk",
        "outputId": "c80efe88-e185-4791-e951-83b9fc390686"
      },
      "source": [
        "mat = a.reshape(10,10)\n",
        "print(mat)"
      ],
      "execution_count": null,
      "outputs": [
        {
          "output_type": "stream",
          "name": "stdout",
          "text": [
            "[[   0.           10.1010101    20.2020202    30.3030303    40.4040404\n",
            "    50.50505051   60.60606061   70.70707071   80.80808081   90.90909091]\n",
            " [ 101.01010101  111.11111111  121.21212121  131.31313131  141.41414141\n",
            "   151.51515152  161.61616162  171.71717172  181.81818182  191.91919192]\n",
            " [ 202.02020202  212.12121212  222.22222222  232.32323232  242.42424242\n",
            "   252.52525253  262.62626263  272.72727273  282.82828283  292.92929293]\n",
            " [ 303.03030303  313.13131313  323.23232323  333.33333333  343.43434343\n",
            "   353.53535354  363.63636364  373.73737374  383.83838384  393.93939394]\n",
            " [ 404.04040404  414.14141414  424.24242424  434.34343434  444.44444444\n",
            "   454.54545455  464.64646465  474.74747475  484.84848485  494.94949495]\n",
            " [ 505.05050505  515.15151515  525.25252525  535.35353535  545.45454545\n",
            "   555.55555556  565.65656566  575.75757576  585.85858586  595.95959596]\n",
            " [ 606.06060606  616.16161616  626.26262626  636.36363636  646.46464646\n",
            "   656.56565657  666.66666667  676.76767677  686.86868687  696.96969697]\n",
            " [ 707.07070707  717.17171717  727.27272727  737.37373737  747.47474747\n",
            "   757.57575758  767.67676768  777.77777778  787.87878788  797.97979798]\n",
            " [ 808.08080808  818.18181818  828.28282828  838.38383838  848.48484848\n",
            "   858.58585859  868.68686869  878.78787879  888.88888889  898.98989899]\n",
            " [ 909.09090909  919.19191919  929.29292929  939.39393939  949.49494949\n",
            "   959.5959596   969.6969697   979.7979798   989.8989899  1000.        ]]\n"
          ]
        }
      ]
    },
    {
      "cell_type": "markdown",
      "metadata": {
        "id": "V9GR8y0APpTm"
      },
      "source": [
        "Exer 5-)"
      ]
    },
    {
      "cell_type": "code",
      "metadata": {
        "colab": {
          "base_uri": "https://localhost:8080/"
        },
        "id": "iJ4hw6uQPtOP",
        "outputId": "2010dfa5-d454-4eaf-b059-92fd086b89bb"
      },
      "source": [
        "print(mat[3:8,4:9])"
      ],
      "execution_count": null,
      "outputs": [
        {
          "output_type": "stream",
          "name": "stdout",
          "text": [
            "[[343.43434343 353.53535354 363.63636364 373.73737374 383.83838384]\n",
            " [444.44444444 454.54545455 464.64646465 474.74747475 484.84848485]\n",
            " [545.45454545 555.55555556 565.65656566 575.75757576 585.85858586]\n",
            " [646.46464646 656.56565657 666.66666667 676.76767677 686.86868687]\n",
            " [747.47474747 757.57575758 767.67676768 777.77777778 787.87878788]]\n"
          ]
        }
      ]
    },
    {
      "cell_type": "markdown",
      "metadata": {
        "id": "XNYY44ehkipc"
      },
      "source": [
        "Exer 6-)"
      ]
    },
    {
      "cell_type": "code",
      "metadata": {
        "colab": {
          "base_uri": "https://localhost:8080/"
        },
        "id": "fKojRqqFknnO",
        "outputId": "1738c4bb-63e3-49ea-aaef-c57e0b5e9b37"
      },
      "source": [
        "lista3 = []\n",
        "for x in range(1,26,2):\n",
        "  lista3.append(x)\n",
        "print(lista3)"
      ],
      "execution_count": null,
      "outputs": [
        {
          "output_type": "stream",
          "name": "stdout",
          "text": [
            "[1, 3, 5, 7, 9, 11, 13, 15, 17, 19, 21, 23, 25]\n"
          ]
        }
      ]
    },
    {
      "cell_type": "markdown",
      "metadata": {
        "id": "7Plipo1HnlhM"
      },
      "source": [
        "Exer 7-)"
      ]
    },
    {
      "cell_type": "code",
      "metadata": {
        "colab": {
          "base_uri": "https://localhost:8080/"
        },
        "id": "hNpVAy6WnnGQ",
        "outputId": "58a46ffa-5c18-4785-ea42-1928de99679f"
      },
      "source": [
        "i = 1\n",
        "lista3 = []\n",
        "while i < 26:\n",
        "  lista3.append(i)\n",
        "  i += 2\n",
        "print(lista3)\n",
        "  "
      ],
      "execution_count": null,
      "outputs": [
        {
          "output_type": "stream",
          "name": "stdout",
          "text": [
            "[1, 3, 5, 7, 9, 11, 13, 15, 17, 19, 21, 23, 25]\n"
          ]
        }
      ]
    },
    {
      "cell_type": "markdown",
      "metadata": {
        "id": "wsPp6E8EoKuX"
      },
      "source": [
        "Exer 8-)"
      ]
    },
    {
      "cell_type": "code",
      "metadata": {
        "colab": {
          "base_uri": "https://localhost:8080/"
        },
        "id": "eSFY5hZ_oMfY",
        "outputId": "d1865f18-aaec-4c5e-95c6-b758d56ab258"
      },
      "source": [
        "import numpy as np\n",
        "import pandas as pd\n",
        "\n",
        "df = pd.DataFrame(mat)\n",
        "print(df)"
      ],
      "execution_count": null,
      "outputs": [
        {
          "output_type": "stream",
          "name": "stdout",
          "text": [
            "            0           1           2  ...           7           8            9\n",
            "0    0.000000   10.101010   20.202020  ...   70.707071   80.808081    90.909091\n",
            "1  101.010101  111.111111  121.212121  ...  171.717172  181.818182   191.919192\n",
            "2  202.020202  212.121212  222.222222  ...  272.727273  282.828283   292.929293\n",
            "3  303.030303  313.131313  323.232323  ...  373.737374  383.838384   393.939394\n",
            "4  404.040404  414.141414  424.242424  ...  474.747475  484.848485   494.949495\n",
            "5  505.050505  515.151515  525.252525  ...  575.757576  585.858586   595.959596\n",
            "6  606.060606  616.161616  626.262626  ...  676.767677  686.868687   696.969697\n",
            "7  707.070707  717.171717  727.272727  ...  777.777778  787.878788   797.979798\n",
            "8  808.080808  818.181818  828.282828  ...  878.787879  888.888889   898.989899\n",
            "9  909.090909  919.191919  929.292929  ...  979.797980  989.898990  1000.000000\n",
            "\n",
            "[10 rows x 10 columns]\n"
          ]
        }
      ]
    },
    {
      "cell_type": "markdown",
      "metadata": {
        "id": "ypAaJbvTokyh"
      },
      "source": [
        "Exer 9-)"
      ]
    },
    {
      "cell_type": "code",
      "metadata": {
        "colab": {
          "base_uri": "https://localhost:8080/",
          "height": 204
        },
        "id": "PG1NUREjomur",
        "outputId": "f80040d4-989d-49fa-cccc-7d7b4bec8a2a"
      },
      "source": [
        "df[[4,5,6,7,8]].iloc[3:8]"
      ],
      "execution_count": null,
      "outputs": [
        {
          "output_type": "execute_result",
          "data": {
            "text/html": [
              "<div>\n",
              "<style scoped>\n",
              "    .dataframe tbody tr th:only-of-type {\n",
              "        vertical-align: middle;\n",
              "    }\n",
              "\n",
              "    .dataframe tbody tr th {\n",
              "        vertical-align: top;\n",
              "    }\n",
              "\n",
              "    .dataframe thead th {\n",
              "        text-align: right;\n",
              "    }\n",
              "</style>\n",
              "<table border=\"1\" class=\"dataframe\">\n",
              "  <thead>\n",
              "    <tr style=\"text-align: right;\">\n",
              "      <th></th>\n",
              "      <th>4</th>\n",
              "      <th>5</th>\n",
              "      <th>6</th>\n",
              "      <th>7</th>\n",
              "      <th>8</th>\n",
              "    </tr>\n",
              "  </thead>\n",
              "  <tbody>\n",
              "    <tr>\n",
              "      <th>3</th>\n",
              "      <td>343.434343</td>\n",
              "      <td>353.535354</td>\n",
              "      <td>363.636364</td>\n",
              "      <td>373.737374</td>\n",
              "      <td>383.838384</td>\n",
              "    </tr>\n",
              "    <tr>\n",
              "      <th>4</th>\n",
              "      <td>444.444444</td>\n",
              "      <td>454.545455</td>\n",
              "      <td>464.646465</td>\n",
              "      <td>474.747475</td>\n",
              "      <td>484.848485</td>\n",
              "    </tr>\n",
              "    <tr>\n",
              "      <th>5</th>\n",
              "      <td>545.454545</td>\n",
              "      <td>555.555556</td>\n",
              "      <td>565.656566</td>\n",
              "      <td>575.757576</td>\n",
              "      <td>585.858586</td>\n",
              "    </tr>\n",
              "    <tr>\n",
              "      <th>6</th>\n",
              "      <td>646.464646</td>\n",
              "      <td>656.565657</td>\n",
              "      <td>666.666667</td>\n",
              "      <td>676.767677</td>\n",
              "      <td>686.868687</td>\n",
              "    </tr>\n",
              "    <tr>\n",
              "      <th>7</th>\n",
              "      <td>747.474747</td>\n",
              "      <td>757.575758</td>\n",
              "      <td>767.676768</td>\n",
              "      <td>777.777778</td>\n",
              "      <td>787.878788</td>\n",
              "    </tr>\n",
              "  </tbody>\n",
              "</table>\n",
              "</div>"
            ],
            "text/plain": [
              "            4           5           6           7           8\n",
              "3  343.434343  353.535354  363.636364  373.737374  383.838384\n",
              "4  444.444444  454.545455  464.646465  474.747475  484.848485\n",
              "5  545.454545  555.555556  565.656566  575.757576  585.858586\n",
              "6  646.464646  656.565657  666.666667  676.767677  686.868687\n",
              "7  747.474747  757.575758  767.676768  777.777778  787.878788"
            ]
          },
          "metadata": {},
          "execution_count": 46
        }
      ]
    },
    {
      "cell_type": "markdown",
      "metadata": {
        "id": "HBNnn0I2qygc"
      },
      "source": [
        "Exer 10-)"
      ]
    },
    {
      "cell_type": "code",
      "metadata": {
        "colab": {
          "base_uri": "https://localhost:8080/",
          "height": 359
        },
        "id": "GSoOENkdq0SD",
        "outputId": "629fdc3d-f65b-47c9-f878-871c5f2a1349"
      },
      "source": [
        "# Titanic\n",
        "url = \"https://web.stanford.edu/class/archive/cs/cs109/cs109.1166/stuff/titanic.csv\"\n",
        "titanic = pd.read_csv(url)\n",
        "titanic.iloc[0:10]"
      ],
      "execution_count": null,
      "outputs": [
        {
          "output_type": "execute_result",
          "data": {
            "text/html": [
              "<div>\n",
              "<style scoped>\n",
              "    .dataframe tbody tr th:only-of-type {\n",
              "        vertical-align: middle;\n",
              "    }\n",
              "\n",
              "    .dataframe tbody tr th {\n",
              "        vertical-align: top;\n",
              "    }\n",
              "\n",
              "    .dataframe thead th {\n",
              "        text-align: right;\n",
              "    }\n",
              "</style>\n",
              "<table border=\"1\" class=\"dataframe\">\n",
              "  <thead>\n",
              "    <tr style=\"text-align: right;\">\n",
              "      <th></th>\n",
              "      <th>Survived</th>\n",
              "      <th>Pclass</th>\n",
              "      <th>Name</th>\n",
              "      <th>Sex</th>\n",
              "      <th>Age</th>\n",
              "      <th>Siblings/Spouses Aboard</th>\n",
              "      <th>Parents/Children Aboard</th>\n",
              "      <th>Fare</th>\n",
              "    </tr>\n",
              "  </thead>\n",
              "  <tbody>\n",
              "    <tr>\n",
              "      <th>0</th>\n",
              "      <td>0</td>\n",
              "      <td>3</td>\n",
              "      <td>Mr. Owen Harris Braund</td>\n",
              "      <td>male</td>\n",
              "      <td>22.0</td>\n",
              "      <td>1</td>\n",
              "      <td>0</td>\n",
              "      <td>7.2500</td>\n",
              "    </tr>\n",
              "    <tr>\n",
              "      <th>1</th>\n",
              "      <td>1</td>\n",
              "      <td>1</td>\n",
              "      <td>Mrs. John Bradley (Florence Briggs Thayer) Cum...</td>\n",
              "      <td>female</td>\n",
              "      <td>38.0</td>\n",
              "      <td>1</td>\n",
              "      <td>0</td>\n",
              "      <td>71.2833</td>\n",
              "    </tr>\n",
              "    <tr>\n",
              "      <th>2</th>\n",
              "      <td>1</td>\n",
              "      <td>3</td>\n",
              "      <td>Miss. Laina Heikkinen</td>\n",
              "      <td>female</td>\n",
              "      <td>26.0</td>\n",
              "      <td>0</td>\n",
              "      <td>0</td>\n",
              "      <td>7.9250</td>\n",
              "    </tr>\n",
              "    <tr>\n",
              "      <th>3</th>\n",
              "      <td>1</td>\n",
              "      <td>1</td>\n",
              "      <td>Mrs. Jacques Heath (Lily May Peel) Futrelle</td>\n",
              "      <td>female</td>\n",
              "      <td>35.0</td>\n",
              "      <td>1</td>\n",
              "      <td>0</td>\n",
              "      <td>53.1000</td>\n",
              "    </tr>\n",
              "    <tr>\n",
              "      <th>4</th>\n",
              "      <td>0</td>\n",
              "      <td>3</td>\n",
              "      <td>Mr. William Henry Allen</td>\n",
              "      <td>male</td>\n",
              "      <td>35.0</td>\n",
              "      <td>0</td>\n",
              "      <td>0</td>\n",
              "      <td>8.0500</td>\n",
              "    </tr>\n",
              "    <tr>\n",
              "      <th>5</th>\n",
              "      <td>0</td>\n",
              "      <td>3</td>\n",
              "      <td>Mr. James Moran</td>\n",
              "      <td>male</td>\n",
              "      <td>27.0</td>\n",
              "      <td>0</td>\n",
              "      <td>0</td>\n",
              "      <td>8.4583</td>\n",
              "    </tr>\n",
              "    <tr>\n",
              "      <th>6</th>\n",
              "      <td>0</td>\n",
              "      <td>1</td>\n",
              "      <td>Mr. Timothy J McCarthy</td>\n",
              "      <td>male</td>\n",
              "      <td>54.0</td>\n",
              "      <td>0</td>\n",
              "      <td>0</td>\n",
              "      <td>51.8625</td>\n",
              "    </tr>\n",
              "    <tr>\n",
              "      <th>7</th>\n",
              "      <td>0</td>\n",
              "      <td>3</td>\n",
              "      <td>Master. Gosta Leonard Palsson</td>\n",
              "      <td>male</td>\n",
              "      <td>2.0</td>\n",
              "      <td>3</td>\n",
              "      <td>1</td>\n",
              "      <td>21.0750</td>\n",
              "    </tr>\n",
              "    <tr>\n",
              "      <th>8</th>\n",
              "      <td>1</td>\n",
              "      <td>3</td>\n",
              "      <td>Mrs. Oscar W (Elisabeth Vilhelmina Berg) Johnson</td>\n",
              "      <td>female</td>\n",
              "      <td>27.0</td>\n",
              "      <td>0</td>\n",
              "      <td>2</td>\n",
              "      <td>11.1333</td>\n",
              "    </tr>\n",
              "    <tr>\n",
              "      <th>9</th>\n",
              "      <td>1</td>\n",
              "      <td>2</td>\n",
              "      <td>Mrs. Nicholas (Adele Achem) Nasser</td>\n",
              "      <td>female</td>\n",
              "      <td>14.0</td>\n",
              "      <td>1</td>\n",
              "      <td>0</td>\n",
              "      <td>30.0708</td>\n",
              "    </tr>\n",
              "  </tbody>\n",
              "</table>\n",
              "</div>"
            ],
            "text/plain": [
              "   Survived  Pclass  ... Parents/Children Aboard     Fare\n",
              "0         0       3  ...                       0   7.2500\n",
              "1         1       1  ...                       0  71.2833\n",
              "2         1       3  ...                       0   7.9250\n",
              "3         1       1  ...                       0  53.1000\n",
              "4         0       3  ...                       0   8.0500\n",
              "5         0       3  ...                       0   8.4583\n",
              "6         0       1  ...                       0  51.8625\n",
              "7         0       3  ...                       1  21.0750\n",
              "8         1       3  ...                       2  11.1333\n",
              "9         1       2  ...                       0  30.0708\n",
              "\n",
              "[10 rows x 8 columns]"
            ]
          },
          "metadata": {},
          "execution_count": 50
        }
      ]
    }
  ]
}